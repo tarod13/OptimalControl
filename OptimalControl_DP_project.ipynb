{
  "nbformat": 4,
  "nbformat_minor": 0,
  "metadata": {
    "colab": {
      "name": "OptimalControl_DP_project.ipynb",
      "provenance": [],
      "collapsed_sections": [],
      "authorship_tag": "ABX9TyM+czV7N/Sq2+lDmcWwW96G",
      "include_colab_link": true
    },
    "kernelspec": {
      "name": "python3",
      "display_name": "Python 3"
    }
  },
  "cells": [
    {
      "cell_type": "markdown",
      "metadata": {
        "id": "view-in-github",
        "colab_type": "text"
      },
      "source": [
        "<a href=\"https://colab.research.google.com/github/tarod13/OptimalControl/blob/main/OptimalControl_DP_project.ipynb\" target=\"_parent\"><img src=\"https://colab.research.google.com/assets/colab-badge.svg\" alt=\"Open In Colab\"/></a>"
      ]
    },
    {
      "cell_type": "markdown",
      "metadata": {
        "id": "hxoZcOD3up17"
      },
      "source": [
        "# Dynamic Programming project"
      ]
    },
    {
      "cell_type": "markdown",
      "metadata": {
        "id": "njUosShe0K-D"
      },
      "source": [
        "First, we'll load the necessary libraries."
      ]
    },
    {
      "cell_type": "code",
      "metadata": {
        "id": "iibYFht4Vm7c"
      },
      "source": [
        "import numpy as np\r\n",
        "import matplotlib.pyplot as plt"
      ],
      "execution_count": 1,
      "outputs": []
    },
    {
      "cell_type": "markdown",
      "metadata": {
        "id": "aw2utPhC0WRa"
      },
      "source": [
        "## 1. Methods\r\n",
        "\r\n",
        "### 1.1 Trajectory simulations\r\n",
        "We need to defined methods that allow simulating trajectories based on the differential equation $\\dot{x}(t)=Ax(t)+Bu(t)$ that specify the system being controlled.\r\n",
        "\r\n",
        "We will use the Dormand-Prince method to simulate the dynamics. For this, we will define an integration step method that receives as input the state-action pair $(x(t),u(t))$ and approximates the corresponding adjusted derivative $\\frac{dx}{dt}$. Then, we introduce a second method that executes several times the step, to produce a trajectory where $x[k+1]\\leftarrow x[k]+\\frac{dx}{dt}\\Delta t$.   "
      ]
    },
    {
      "cell_type": "code",
      "metadata": {
        "id": "3DCaCxJJThzV"
      },
      "source": [
        "# Dormand-Prince integration step\r\n",
        "def step_DormandPrince(f,t,x,h,u,f_args):\r\n",
        "\r\n",
        "    k1 = f(t,x,u,f_args)\r\n",
        "    x2 = x + h*(1./5.*k1)\r\n",
        "    k2 = f(t + 1./5.*h, x2, u, f_args)\r\n",
        "    x3 = x + h*(3./40.*k1 + 9./40.*k2)\r\n",
        "    k3 = f(t + 3./10*h, x3, u, f_args)\r\n",
        "    x4 = x + h*(44./45.*k1 - 56./15.*k2 + 32./9.*k3)\r\n",
        "    k4 = f(t + 4./5.*h, x4, u, f_args)\r\n",
        "    x5 = x + h*(19372./6561.*k1 - 25360./2187.*k2 + 64448./6561.*k3 - 212./729.*k4)\r\n",
        "    k5 = f(t + 8./9.*h, x5, u, f_args)\r\n",
        "    x6 = x + h*(9017./3168.*k1 - 355./33.*k2 + 46732./5247.*k3 + 49./176.*k4 - 5103./18656.*k5)\r\n",
        "    k6 = f(t + h, x6, u, f_args)\r\n",
        "\r\n",
        "    dx_dt = 35./384.*k1 + 500./1113.*k3 + 125./192.*k4 - 2187./6784.*k5 + 11./84.*k6    \r\n",
        "    return dx_dt"
      ],
      "execution_count": 2,
      "outputs": []
    },
    {
      "cell_type": "code",
      "metadata": {
        "id": "w9tS0JMbUKXf"
      },
      "source": [
        "# Dormand-Prince simulation with forced input\r\n",
        "def simulate_trajectory_DormandPrince(f, t, x0, f_args):\r\n",
        "    N = len(t)\r\n",
        "    x = [x0]\r\n",
        "    u0 = x2u(x0)\r\n",
        "    u = [u0]    \r\n",
        "    for k in range(0, N-1):\r\n",
        "        dx_dt = step_DormandPrince(f,t[k],x[k],t[k+1]-t[k],u[k],f_args)\r\n",
        "        dt = t[k+1]-t[k]\r\n",
        "        x.append(x[k] + dx_dt*dt)\r\n",
        "        u.append(x2u(x[k+1]))\r\n",
        "    return np.stack(x), np.stack(u)"
      ],
      "execution_count": 3,
      "outputs": []
    },
    {
      "cell_type": "code",
      "metadata": {
        "id": "D56_hw8WVEHo"
      },
      "source": [
        "# Define system dynamics\r\n",
        "def system_ode(t, x, u, args):\r\n",
        "  A = args['A']; B = args['B']\r\n",
        "  xdot = np.einsum('ij,kj->ki',A,x) + np.einsum('ij,kj->ki',B,u)  \r\n",
        "  return xdot"
      ],
      "execution_count": 4,
      "outputs": []
    },
    {
      "cell_type": "markdown",
      "metadata": {
        "id": "aRklOMn93qNz"
      },
      "source": [
        "### 1.2 Conversion methods and initial policy\r\n",
        "We need to discretize the states to apply the tabular version of the DP algortihms. Also, to control the system from the policy we will need to convert discrete actions into control signals. "
      ]
    },
    {
      "cell_type": "code",
      "metadata": {
        "id": "lDsTx4eOVp4X"
      },
      "source": [
        "# State in original coordinates to DP discrete state\r\n",
        "def x2s(x, x_min=-1.0, x_max=1.0, NS=101):\r\n",
        "  x_clip = x.clip(x_min, x_max)\r\n",
        "  x_unit = (x_clip - x_min) / (x_max-x_min)\r\n",
        "  s_float = x_unit * NS\r\n",
        "  s = np.floor(s_float).astype('int')\r\n",
        "  return s  "
      ],
      "execution_count": 5,
      "outputs": []
    },
    {
      "cell_type": "code",
      "metadata": {
        "id": "0yppMI-AOZE-"
      },
      "source": [
        "# Action taken by initial policy\r\n",
        "def simple_policy(state, NS=101, NA=11):\r\n",
        "  s_0 = (NS-1)//2\r\n",
        "  a_0 = (NA-1)//2\r\n",
        "  if state[0] == s_0 and state[1] == s_0:\r\n",
        "    return a_0\r\n",
        "  elif state[0] > s_0 and state[1] >= s_0:\r\n",
        "    return 0\r\n",
        "  elif state[0] >= s_0 and state[1] < s_0:\r\n",
        "    return a_0+2\r\n",
        "  elif state[0] < s_0 and state[1] <= s_0:\r\n",
        "    return NA-1\r\n",
        "  elif state[0] <= s_0 and state[1] > s_0:\r\n",
        "    return a_0-2\r\n",
        "  else:\r\n",
        "    print(state[0], state[1])\r\n",
        "    raise NameError('Invalid state')"
      ],
      "execution_count": 6,
      "outputs": []
    },
    {
      "cell_type": "code",
      "metadata": {
        "id": "mlhYxNKhGoDF"
      },
      "source": [
        "# Initial policy that takes state to origin\r\n",
        "def s2a_simple_policy(s, NS=101):\r\n",
        "  n_s = s.shape[0]\r\n",
        "  a_list = [simple_policy(state) for state in s.tolist()]\r\n",
        "  a = np.array(a_list).reshape(-1,1)\r\n",
        "  return a"
      ],
      "execution_count": 7,
      "outputs": []
    },
    {
      "cell_type": "code",
      "metadata": {
        "id": "HpxLA8wmXQBm"
      },
      "source": [
        "# DP discrete action to control signal \r\n",
        "def a2u(a, u_min=-1.0, u_max=1.0, NA=11):\r\n",
        "  a_unit = a.astype('float') / float(NA-1)\r\n",
        "  u = a_unit * (u_max-u_min) + u_min\r\n",
        "  return u"
      ],
      "execution_count": 8,
      "outputs": []
    },
    {
      "cell_type": "code",
      "metadata": {
        "id": "vj73Be8ZZpA-"
      },
      "source": [
        "# State to control signal\r\n",
        "def x2u(x, policy='simple'):\r\n",
        "  s = x2s(x)\r\n",
        "  if policy == 'simple':\r\n",
        "    a = s2a_simple_policy(s)\r\n",
        "  else:\r\n",
        "    raise NameError('undefined policy')\r\n",
        "  u = a2u(a)\r\n",
        "  return u"
      ],
      "execution_count": 9,
      "outputs": []
    },
    {
      "cell_type": "code",
      "metadata": {
        "id": "6F3JAvUrhnqC"
      },
      "source": [
        "# Initialize J table\r\n",
        "def init_J(NS=101):\r\n",
        "  J = np.zeros((NS,NS))\r\n",
        "  J[0,:] = np.infty\r\n",
        "  J[-1,:] = np.infty\r\n",
        "  J[:,0] = np.infty\r\n",
        "  J[:,-1] = np.infty\r\n",
        "  return J.copy()"
      ],
      "execution_count": 10,
      "outputs": []
    },
    {
      "cell_type": "markdown",
      "metadata": {
        "id": "I6MkthkU4eu4"
      },
      "source": [
        "## 2. Initial simulation with simple policy\r\n",
        "We test our methods simulating three different initial conditions, with 2 different timesteps."
      ]
    },
    {
      "cell_type": "code",
      "metadata": {
        "id": "GtXmQT0AYyJh"
      },
      "source": [
        "x0 = np.array([[0.5, 0.83], [-0.5, -0.83], [0.45, -0.1]])\r\n",
        "A = np.array([[0.0,1.0],[0.0,0.0]])\r\n",
        "B = np.array([[0.0],[1.0]])\r\n",
        "ode_args = {'A': A.copy(), 'B': B.copy()}"
      ],
      "execution_count": 11,
      "outputs": []
    },
    {
      "cell_type": "code",
      "metadata": {
        "id": "LnwOolcUVLmQ",
        "colab": {
          "base_uri": "https://localhost:8080/",
          "height": 483
        },
        "outputId": "0c65103b-de02-458b-b0b4-bfb42ceb5cde"
      },
      "source": [
        "fig, ax = plt.subplots(3,1, figsize=(10,8))\r\n",
        "for dt in [0.01, 0.001]:\r\n",
        "    t = np.arange(0,100,dt);\r\n",
        "    x, u = simulate_trajectory_DormandPrince(system_ode,t,x0,ode_args)\r\n",
        "    for i in range(0, x0.shape[0]): \r\n",
        "      label_ = \"dt=%.0e\"%dt+\" (ej \"+str(i)+\")\"   \r\n",
        "      ax[0].plot(t, x[:,i,0], '-', ms=1, label=label_);\r\n",
        "      ax[1].plot(t, x[:,i,1], '-', ms=1, label=label_);\r\n",
        "      ax[2].plot(t, u[:,i], 'o', ms=1, label=label_);\r\n",
        "for i in range(0,3):\r\n",
        "  ax[i].grid()\r\n",
        "  ax[i].legend(fontsize=6)\r\n",
        "plt.show()\r\n",
        "plt.close() "
      ],
      "execution_count": 12,
      "outputs": [
        {
          "output_type": "display_data",
          "data": {
            "image/png": "[encoded data removed]",
            "text/plain": [
              "<Figure size 720x576 with 3 Axes>"
            ]
          },
          "metadata": {
            "tags": [],
            "needs_background": "light"
          }
        }
      ]
    },
    {
      "cell_type": "code",
      "metadata": {
        "id": "Dp1YfjgLrLA9",
        "colab": {
          "base_uri": "https://localhost:8080/",
          "height": 393
        },
        "outputId": "3c079eb3-333b-4425-d487-6ed28abdbef9"
      },
      "source": [
        "fig, ax = plt.subplots(1,1, figsize=(6,6))\r\n",
        "for i in range(0, x0.shape[0]): \r\n",
        "  ax.plot(x[:,i,0], x[:,i,1], 'o', ms=1);\r\n",
        "plt.xlim([-1,1])\r\n",
        "plt.ylim([-1,1])\r\n",
        "plt.xlabel(r'x_1(t)')\r\n",
        "plt.ylabel(r'x_2(t)')\r\n",
        "plt.grid() \r\n",
        "plt.show()\r\n",
        "plt.close() "
      ],
      "execution_count": 13,
      "outputs": [
        {
          "output_type": "display_data",
          "data": {
            "image/png": "[encoded data removed]",
            "text/plain": [
              "<Figure size 432x432 with 1 Axes>"
            ]
          },
          "metadata": {
            "tags": [],
            "needs_background": "light"
          }
        }
      ]
    },
    {
      "cell_type": "markdown",
      "metadata": {
        "id": "GeAVHOu0AbNL"
      },
      "source": [
        "We can see that in all the cases the initial policy is successful in changing the state of the system to the origin. Also, it seems that precision is not heavily affected by increasing the time step $\\Delta t$ from $0.001$ to $0.01$. Thus, we will fix this hyperparameter to 0.01."
      ]
    },
    {
      "cell_type": "code",
      "metadata": {
        "id": "t42dIcx9BTir"
      },
      "source": [
        ""
      ],
      "execution_count": null,
      "outputs": []
    },
    {
      "cell_type": "code",
      "metadata": {
        "id": "6QT9cSJ9hR6q"
      },
      "source": [
        "NS = 103\r\n",
        "J = init_J(NS)"
      ],
      "execution_count": 14,
      "outputs": []
    },
    {
      "cell_type": "code",
      "metadata": {
        "id": "1zQh3sLvKz8G"
      },
      "source": [
        ""
      ],
      "execution_count": 14,
      "outputs": []
    }
  ]
}